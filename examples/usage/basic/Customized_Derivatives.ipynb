{
 "cells": [
  {
   "cell_type": "code",
   "execution_count": 1,
   "id": "f53b2083",
   "metadata": {
    "tags": [
     "remove-cell"
    ]
   },
   "outputs": [],
   "source": [
    "import logging\n",
    "import warnings\n",
    "\n",
    "import cmomy.resample\n",
    "import numpy as np\n",
    "\n",
    "np.random.seed(0)\n",
    "cmomy.resample.numba_random_seed(0)\n",
    "np.set_printoptions(precision=4)\n",
    "warnings.filterwarnings(\"ignore\")\n",
    "\n",
    "\n",
    "logger = logging.getLogger()\n",
    "logger.setLevel(logging.ERROR)"
   ]
  },
  {
   "cell_type": "markdown",
   "id": "b0c9b0a2",
   "metadata": {},
   "source": [
    "# Extrapolation in volume and custom derivatives\n",
    "\n",
    "\n",
    "There may be some cases where a custom derivative needs to be written. Most likely, this will be when you can't write the necessary averages in terms of the observable and a specific Hamiltonian or thermodynamic conjugate variable. For instance, this might occur when extrapolating over volume in the NVT ensemble (see https://aip.scitation.org/doi/10.1063/5.0014282). In these cases, it is useful to know how to write custom derivative calculation functions and merge them back into the capabilities of the {mod}`thermoextrap` package.\n",
    "\n",
    "This example will be based on the code found in {mod}`thermoextrap.volume`, with sections of that file reproduced here for pedagogical purposes.\n",
    "\n",
    "First, it is useful to know the structure of how extrapolation coefficients (derivatives) are calculated in {mod}`thermoextrap`. Handily, there is a class called {class}`thermoextrap.models.Derivatives` that uses functions or arrays of functions to compute derivatives at specific orders. Typically, these functions are generated using sympy based on known relationships between the derivatives and moments of the observable and Hamiltonian. However, they can instead be specified manually."
   ]
  },
  {
   "cell_type": "code",
   "execution_count": 2,
   "id": "9b91eb5b",
   "metadata": {
    "execution": {
     "iopub.execute_input": "2022-11-30T19:58:44.906612Z",
     "iopub.status.busy": "2022-11-30T19:58:44.906232Z",
     "iopub.status.idle": "2022-11-30T19:58:45.628758Z",
     "shell.execute_reply": "2022-11-30T19:58:45.628225Z"
    }
   },
   "outputs": [],
   "source": [
    "%matplotlib inline\n",
    "\n",
    "import matplotlib as mpl\n",
    "import matplotlib.pyplot as plt\n",
    "import numpy as np\n",
    "import xarray as xr"
   ]
  },
  {
   "cell_type": "markdown",
   "id": "21e65981",
   "metadata": {},
   "source": [
    "Our goal here will be to extrapolate in volume (or 1D length) for the 1D ideal gas test system.\n",
    "\n",
    "To extrapolate in volume we need observable values at each snapshot along with values of the virial at each snapshot. For the ideal gas system, the virial is given by $W = -\\sum_{i} \\frac{\\mathrm{d}U}{\\mathrm{d}x_{i}} x_{i} = -\\sum_{i} a x_{i}$, which for $a=1$ leads us to $W = -N \\langle x \\rangle$, where the average is over all particles of a given configuration. For the purposes of extrapolation, we need a dimensionless virial, so $W$ will be multiplied by $\\beta$.\n",
    "\n",
    "For any observable, there is a unique term that appears in the derivative with respect to system size or volume, specifically $\\langle \\sum_{i} \\frac{\\partial Y}{\\partial x_i} x_{i}$ where $Y$ is the observable and $x_i$ is the $i^\\mathrm{th}$ degree of freedom. In the ideal gas system at hand, $Y = \\frac{1}{N} \\sum_{i} x_{i}$ so that this correction term is equal to the observable itself, $Y = \\langle x \\rangle$, with again the average here only over all particles. It is interesting that the virial is then exactly $N$ times larger than this correction term. This is typical, as the virial will scale with the number of degrees of freedom in the system. As a result the correction term is 1000 times smaller than the other two terms appearing in the first derivative with respect to system size, $L$. However, the other two terms nearly cancel, resulting in a small difference the same order of magnitude as the correction term. For any system you work with, you should check the magnitude of the unique correction term, either visually or by deriving and computing it."
   ]
  },
  {
   "cell_type": "markdown",
   "id": "2da5dcb2",
   "metadata": {},
   "source": [
    "Getting back to the code, below is a custom derivative calculation function appearing in xtrap.volume.py. This will actually work for any extrapolation in volume for the NVT ensemble, not just for the 1D ideal gas test system."
   ]
  },
  {
   "cell_type": "code",
   "execution_count": 3,
   "id": "507012cc",
   "metadata": {
    "execution": {
     "iopub.execute_input": "2022-11-30T19:58:45.632575Z",
     "iopub.status.busy": "2022-11-30T19:58:45.632227Z",
     "iopub.status.idle": "2022-11-30T19:58:46.765672Z",
     "shell.execute_reply": "2022-11-30T19:58:46.765120Z"
    }
   },
   "outputs": [],
   "source": [
    "import thermoextrap as xtrap"
   ]
  },
  {
   "cell_type": "code",
   "execution_count": 4,
   "id": "2eb7cb6f",
   "metadata": {
    "execution": {
     "iopub.execute_input": "2022-11-30T19:58:46.777573Z",
     "iopub.status.busy": "2022-11-30T19:58:46.777331Z",
     "iopub.status.idle": "2022-11-30T19:58:46.782276Z",
     "shell.execute_reply": "2022-11-30T19:58:46.781714Z"
    }
   },
   "outputs": [],
   "source": [
    "class VolumeDerivFuncs:\n",
    "    \"\"\"\n",
    "    Calculates specific derivative values at refV with data x and W.\n",
    "    Only go to first order for volume extrapolation.\n",
    "    Here W represents the virial instead of the potential energy.\n",
    "    \"\"\"\n",
    "\n",
    "    def __getitem__(self, order):\n",
    "        # Check to make sure not going past first order\n",
    "        if order > 1:\n",
    "            raise ValueError(\n",
    "                \"Volume derivatives cannot go past 1st order\"\n",
    "                + \" and received %i\" % order\n",
    "                + \"\\n(because would need derivatives of forces)\"\n",
    "            )\n",
    "        return self.create_deriv_func(order)\n",
    "\n",
    "    @staticmethod\n",
    "    def create_deriv_func(order):\n",
    "        def func(W, xW, dxdq, volume, ndim=1):\n",
    "            \"\"\"Dxdq is <sum_{i=1}^N dy/dx_i x_i>\"\"\"\n",
    "            # NOTE: W here has beta in it:\n",
    "            # that is W <- beta * virial\n",
    "\n",
    "            # Zeroth order derivative\n",
    "            if order == 0:\n",
    "                deriv_val = xW[0]\n",
    "            # First order derivative\n",
    "            else:\n",
    "                deriv_val = (-xW[0] * W[1] + xW[1] + dxdq) / (volume * ndim)\n",
    "            return deriv_val\n",
    "\n",
    "        return func"
   ]
  },
  {
   "cell_type": "markdown",
   "id": "c799b342",
   "metadata": {},
   "source": [
    "There are two key components in the above class: a `__getitem__` method and a `create_deriv_func` method. `__getitem__` is used to specify which order of derivative we want and return it - if this was an array of functions, we could just store the array and access them for the appropriate order. Here, this method just ensures that we don't try and go past 1st order in our derivatives (because that is not implemented) and returns the derivative function shown. The `create_deriv_func` returns the appropriate derivative at the specified order. The function it returns takes as inputs the virial moments (would be array of potential energy moments in other scenarios), array of moments of the product of $x$ and $W$, an explicit derivative term for of the observable with respect to the extrapolation variable, and the volume (or $L$ for the 1D ideal gas here). The last argument, `ndim`, is the dimensionality of the system, so just 1 for the 1D ideal gas, but would be 3 in more typical systems."
   ]
  },
  {
   "cell_type": "code",
   "execution_count": 5,
   "id": "2c27655b",
   "metadata": {
    "execution": {
     "iopub.execute_input": "2022-11-30T19:58:46.785171Z",
     "iopub.status.busy": "2022-11-30T19:58:46.784944Z",
     "iopub.status.idle": "2022-11-30T19:58:49.737411Z",
     "shell.execute_reply": "2022-11-30T19:58:49.736523Z"
    }
   },
   "outputs": [],
   "source": [
    "# Import idealgas module\n",
    "from thermoextrap import idealgas\n",
    "\n",
    "# Set temperature and volumes\n",
    "beta = 1.0\n",
    "volumes = np.arange(0.5, 10.0, 0.5)\n",
    "\n",
    "# Define our reference size to extrapolated from\n",
    "volume_ref = volumes[9]\n",
    "\n",
    "npart = 1000  # Number of particles (in single configuration)\n",
    "nconfig = 100_000  # Number of configurations\n",
    "\n",
    "# And generate new data at this reference size, using a beta of 1.0 for simplicity\n",
    "xdatavol, udatavol = idealgas.generate_data((nconfig, npart), beta=beta, vol=volume_ref)\n",
    "\n",
    "# Wrap with xarray\n",
    "xdatavol = xr.DataArray(xdatavol, dims=[\"rec\"])\n",
    "udatavol = xr.DataArray(udatavol, dims=[\"rec\"])\n",
    "\n",
    "# For the IG model, the virial W is the same as the negative of the number of particles multiplied by the average position\n",
    "# (for a=1)\n",
    "# And we have to multiply by beta to make the virial dimensionless\n",
    "wdatavol = -1.0 * npart * xdatavol"
   ]
  },
  {
   "cell_type": "markdown",
   "id": "81486abb",
   "metadata": {},
   "source": [
    "Next we create and train our volume extrapolation model and check its outputs. You can look at {func}`~thermoextrap.volume.factory_extrapmodel`, but it's nearly identical to that in {mod}`thermoextrap.beta`, but uses specialized data callbacks and {class}`~thermoextrap.models.Derivatives` models. We have already demonstrated above how to specify custom derivatives for the {class}`~thermoextrap.models.Derivatives` model.\n",
    "\n",
    "To create a special callback in a data object, follow {class}`thermoextrap.volume.VolumeDataCallback`, reproduced below. Passing such callbacks to a data object through the argument `meta` is a very flexible way to adjust the data structures and information provided when calculating derivatives. Here, we extend the data class to also track the quantity `dxdqv`, or the specific derivative of the observable with respect to the extrapolation variable and is unique for every observable (see https://aip.scitation.org/doi/10.1063/5.0014282).\n",
    "\n",
    "Basically, the argument `meta` takes one of these custom callbacks with the implemented methods shown below (ignore `dxdqv`, though, as that is specific to this case). You must implement methods to define the names of extra parameters `param_names`, to resample, and to pass extra information to the derivative calculation function `deriv_args`. Note that the method `deriv_args` should mirror the input structure in the above custom derivative function, with extra arguments from the callback added to what is typically passed through the `deriv_args` function of the base data class (specifically, the potential energy moments and $xU$ moments, which here are virial and $xW$ moments)."
   ]
  },
  {
   "cell_type": "code",
   "execution_count": 6,
   "id": "d41c23ca",
   "metadata": {
    "execution": {
     "iopub.execute_input": "2022-11-30T19:58:49.741193Z",
     "iopub.status.busy": "2022-11-30T19:58:49.740887Z",
     "iopub.status.idle": "2022-11-30T19:58:49.749284Z",
     "shell.execute_reply": "2022-11-30T19:58:49.748626Z"
    }
   },
   "outputs": [],
   "source": [
    "import attrs\n",
    "from module_utilities import cached\n",
    "\n",
    "\n",
    "@attrs.define\n",
    "class VolumeDataCallback(xtrap.data.DataCallbackABC):\n",
    "    \"\"\"object to handle callbacks of metadata\"\"\"\n",
    "\n",
    "    volume: float = attrs.field(validator=attrs.validators.instance_of(float))\n",
    "    dxdqv: xr.DataArray = attrs.field(\n",
    "        validator=attrs.validators.instance_of(xr.DataArray)\n",
    "    )\n",
    "    ndim: int = attrs.field(default=3, validator=attrs.validators.instance_of(int))\n",
    "\n",
    "    def check(self, data) -> None:\n",
    "        pass\n",
    "\n",
    "    @property\n",
    "    def param_names(self):\n",
    "        return [\"volume\", \"dxdqv\", \"ndim\"]\n",
    "\n",
    "    @cached.meth\n",
    "    def dxdq(self, rec_dim, skipna):\n",
    "        return self.dxdqv.mean(rec_dim, skipna=skipna)\n",
    "\n",
    "    def resample(self, data, meta_kws, indices, **kws):\n",
    "        return self.new_like(dxdqv=self.dxdqv[indices])\n",
    "\n",
    "    def derivs_args(self, data, derivs_args):\n",
    "        return (\n",
    "            *tuple(derivs_args),\n",
    "            self.dxdq(rec_dim=data.rec_dim, skipna=data.skipna),\n",
    "            self.volume,\n",
    "            self.ndim,\n",
    "        )"
   ]
  },
  {
   "cell_type": "code",
   "execution_count": 7,
   "id": "9fa6ec8c",
   "metadata": {
    "execution": {
     "iopub.execute_input": "2022-11-30T19:58:49.758322Z",
     "iopub.status.busy": "2022-11-30T19:58:49.758095Z",
     "iopub.status.idle": "2022-11-30T19:58:49.761155Z",
     "shell.execute_reply": "2022-11-30T19:58:49.760654Z"
    }
   },
   "outputs": [],
   "source": [
    "xemv = xtrap.volume.factory_extrapmodel(\n",
    "    volume=volume_ref,\n",
    "    # this is actually w\n",
    "    uv=wdatavol,\n",
    "    xv=xdatavol,\n",
    "    # dxdqv = single observation of sum(dx/dq_i q_i) where q_i is the ith coordinate\n",
    "    # for ideal gas, this is just xdata\n",
    "    dxdqv=xdatavol,\n",
    "    ndim=1,\n",
    ")"
   ]
  },
  {
   "cell_type": "code",
   "execution_count": 8,
   "id": "e8e634e3",
   "metadata": {
    "execution": {
     "iopub.execute_input": "2022-11-30T19:58:49.763801Z",
     "iopub.status.busy": "2022-11-30T19:58:49.763583Z",
     "iopub.status.idle": "2022-11-30T19:58:50.035927Z",
     "shell.execute_reply": "2022-11-30T19:58:50.035334Z"
    }
   },
   "outputs": [
    {
     "data": {
      "text/plain": [
       "DataValues(meta=VolumeDataCallback(volume=5.0, dxdqv=<xarray.DataArray (rep: 100, rec: 100000)>\n",
       "array([[0.9733, 0.9726, 0.9752, ..., 0.9757, 0.953 , 1.0029],\n",
       "       [0.9478, 0.969 , 0.9655, ..., 0.9377, 1.0128, 0.9879],\n",
       "       [0.9967, 1.0215, 0.9566, ..., 0.9692, 0.9626, 0.9275],\n",
       "       ...,\n",
       "       [0.9684, 0.9404, 0.9599, ..., 1.0487, 1.0139, 1.014 ],\n",
       "       [1.0023, 0.977 , 0.9937, ..., 0.9478, 0.9232, 0.9487],\n",
       "       [0.9581, 0.9603, 0.9976, ..., 0.9536, 0.9941, 0.952 ]])\n",
       "Dimensions without coordinates: rep, rec, ndim=1), uv=<xarray.DataArray (rep: 100, rec: 100000)>\n",
       "array([[ -973.2862,  -972.5566,  -975.1717, ...,  -975.6809,  -953.0374,\n",
       "        -1002.8551],\n",
       "       [ -947.8293,  -969.035 ,  -965.4949, ...,  -937.6997, -1012.8461,\n",
       "         -987.8998],\n",
       "       [ -996.6823, -1021.5108,  -956.5824, ...,  -969.1991,  -962.5732,\n",
       "         -927.4884],\n",
       "       ...,\n",
       "       [ -968.3897,  -940.4485,  -959.9381, ..., -1048.6724, -1013.8761,\n",
       "        -1014.0061],\n",
       "       [-1002.2944,  -977.0384,  -993.6609, ...,  -947.7638,  -923.1542,\n",
       "         -948.6999],\n",
       "       [ -958.0745,  -960.3263,  -997.5645, ...,  -953.5737,  -994.1306,\n",
       "         -951.9588]])\n",
       "Dimensions without coordinates: rep, rec, xv=<xarray.DataArray (rep: 100, rec: 100000)>\n",
       "array([[0.9733, 0.9726, 0.9752, ..., 0.9757, 0.953 , 1.0029],\n",
       "       [0.9478, 0.969 , 0.9655, ..., 0.9377, 1.0128, 0.9879],\n",
       "       [0.9967, 1.0215, 0.9566, ..., 0.9692, 0.9626, 0.9275],\n",
       "       ...,\n",
       "       [0.9684, 0.9404, 0.9599, ..., 1.0487, 1.0139, 1.014 ],\n",
       "       [1.0023, 0.977 , 0.9937, ..., 0.9478, 0.9232, 0.9487],\n",
       "       [0.9581, 0.9603, 0.9976, ..., 0.9536, 0.9941, 0.952 ]])\n",
       "Dimensions without coordinates: rep, rec, order=1, rec_dim='rec', umom_dim='umom', deriv_dim=None, skipna=False, chunk=None, compute=False, build_aves_kws={}, x_is_u=False)"
      ]
     },
     "execution_count": 8,
     "metadata": {},
     "output_type": "execute_result"
    }
   ],
   "source": [
    "xemv.data.resample(nrep=100)"
   ]
  },
  {
   "cell_type": "code",
   "execution_count": 9,
   "id": "0172e876",
   "metadata": {
    "execution": {
     "iopub.execute_input": "2022-11-30T19:58:50.039072Z",
     "iopub.status.busy": "2022-11-30T19:58:50.038823Z",
     "iopub.status.idle": "2022-11-30T19:58:50.418462Z",
     "shell.execute_reply": "2022-11-30T19:58:50.417898Z"
    }
   },
   "outputs": [
    {
     "name": "stdout",
     "output_type": "stream",
     "text": [
      "Model parameters (derivatives):\n",
      " [0.966  0.0269]\n",
      "Model predictions:\n",
      " [0.8449 0.8583 0.8718 0.8852]\n",
      "Bootstrapped uncertainties in predictions:\n",
      " [0.0033 0.0029 0.0025 0.0022]\n"
     ]
    }
   ],
   "source": [
    "# Check the computation of derivatives\n",
    "print(\"Model parameters (derivatives):\\n\", xemv.derivs(norm=False).values)\n",
    "\n",
    "# Finally, look at predictions\n",
    "print(\"Model predictions:\\n\", xemv.predict(volumes[:4]).values)\n",
    "# And bootstrapped uncertainties\n",
    "print(\n",
    "    \"Bootstrapped uncertainties in predictions:\\n\",\n",
    "    xemv.resample(nrep=100).predict(volumes[:4]).std(\"rep\").values,\n",
    ")"
   ]
  },
  {
   "cell_type": "code",
   "execution_count": 10,
   "id": "8029bcaf",
   "metadata": {
    "execution": {
     "iopub.execute_input": "2022-11-30T19:58:50.421340Z",
     "iopub.status.busy": "2022-11-30T19:58:50.421099Z",
     "iopub.status.idle": "2022-11-30T19:58:50.820207Z",
     "shell.execute_reply": "2022-11-30T19:58:50.819433Z"
    }
   },
   "outputs": [
    {
     "name": "stdout",
     "output_type": "stream",
     "text": [
      "True extrapolation coefficients: [0.9661 0.0274]\n",
      "\t With N_configs =     10: [0.9527 0.0162]\n",
      "\t With N_configs =    100: [0.9644 0.0178]\n",
      "\t With N_configs =   1000: [0.964  0.0116]\n",
      "\t With N_configs =  10000: [0.966  0.0266]\n",
      "\t With N_configs = 100000: [0.966  0.0269]\n"
     ]
    },
    {
     "data": {
      "image/png": "[encoded data removed]",
      "text/plain": [
       "<Figure size 640x480 with 1 Axes>"
      ]
     },
     "metadata": {},
     "output_type": "display_data"
    }
   ],
   "source": [
    "fig, ax = plt.subplots()\n",
    "\n",
    "nsampvals = np.array((10.0 * np.ones(5)) ** np.arange(1, 6), dtype=int)\n",
    "nsampcolors = plt.cm.viridis(np.arange(0.0, 1.0, float(1.0 / len(nsampvals))))\n",
    "\n",
    "# First plot the analytical result\n",
    "ax.plot(volumes, idealgas.x_ave(beta, volumes), \"k--\", linewidth=2.0)\n",
    "\n",
    "# And the infinite sampling results for first order extrapolation\n",
    "trueExtrap, trueDerivs = idealgas.x_vol_extrap(1, volume_ref, volumes, beta=beta)\n",
    "ax.plot(volumes, trueExtrap, \"r-\", zorder=0)\n",
    "print(f\"True extrapolation coefficients: {trueDerivs}\")\n",
    "\n",
    "for i, n in enumerate(nsampvals):\n",
    "    thisinds = np.random.choice(len(xdatavol), size=n, replace=False)\n",
    "\n",
    "    # Get parameters for extrapolation model with this data by training it - the parameters are the derivatives\n",
    "    xemv = xtrap.volume.factory_extrapmodel(\n",
    "        volume=volume_ref,\n",
    "        # this is actually w\n",
    "        uv=wdatavol[thisinds],\n",
    "        xv=xdatavol[thisinds],\n",
    "        dxdqv=xdatavol[thisinds],\n",
    "        ndim=1,\n",
    "    )\n",
    "\n",
    "    out = xemv.predict(volumes)\n",
    "    print(\"\\t With N_configs = %6i: %s\" % (n, str(xemv.derivs(norm=False).values)))\n",
    "\n",
    "    out.plot(marker=\"s\", ms=4, color=nsampcolors[i], ls=\"None\", label=f\"N={n}\", ax=ax)\n",
    "\n",
    "ax.set_ylabel(r\"$\\langle x \\rangle$\")\n",
    "ax.set_xlabel(r\"$L$\")\n",
    "\n",
    "ax.annotate(\"O(1) Extrapolation\", xy=(0.4, 0.7), xycoords=\"axes fraction\", fontsize=9)\n",
    "\n",
    "ax.set_ylim((-1.0, 4.0))\n",
    "ax.yaxis.set_major_locator(mpl.ticker.MaxNLocator(nbins=4, prune=\"both\"))\n",
    "\n",
    "fig.tight_layout()\n",
    "fig.subplots_adjust(hspace=0.0)\n",
    "\n",
    "ax.set_title(None)\n",
    "\n",
    "plt.legend()\n",
    "plt.show()"
   ]
  },
  {
   "cell_type": "code",
   "execution_count": null,
   "id": "22da6e82",
   "metadata": {},
   "outputs": [],
   "source": []
  }
 ],
 "metadata": {
  "celltoolbar": "Tags",
  "hide_input": false,
  "kernelspec": {
   "display_name": "Python [venv: thermoextrap-dev]",
   "language": "python",
   "name": "thermoextrap-dev"
  },
  "language_info": {
   "codemirror_mode": {
    "name": "ipython",
    "version": 3
   },
   "file_extension": ".py",
   "mimetype": "text/x-python",
   "name": "python",
   "nbconvert_exporter": "python",
   "pygments_lexer": "ipython3",
   "version": "3.11.7"
  },
  "toc": {
   "base_numbering": 1,
   "nav_menu": {},
   "number_sections": true,
   "sideBar": true,
   "skip_h1_title": false,
   "title_cell": "Table of Contents",
   "title_sidebar": "Contents",
   "toc_cell": false,
   "toc_position": {},
   "toc_section_display": true,
   "toc_window_display": true
  }
 },
 "nbformat": 4,
 "nbformat_minor": 5
}
